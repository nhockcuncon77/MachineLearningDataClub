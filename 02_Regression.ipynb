{
  "nbformat": 4,
  "nbformat_minor": 0,
  "metadata": {
    "colab": {
      "provenance": []
    },
    "kernelspec": {
      "name": "python3",
      "display_name": "Python 3"
    },
    "language_info": {
      "name": "python"
    }
  },
  "cells": [
    {
      "cell_type": "code",
      "execution_count": 21,
      "metadata": {
        "id": "KkjX_eQlYcYI"
      },
      "outputs": [],
      "source": [
        "%matplotlib inline\n",
        "\n",
        "import pandas as pd\n",
        "import numpy as np\n",
        "\n",
        "import matplotlib.pyplot as plt\n",
        "import seaborn as sns\n",
        "\n",
        "import warnings\n",
        "warnings.filterwarnings(\"ignore\")"
      ]
    },
    {
      "cell_type": "code",
      "source": [
        "usecols = ['latitude','longitude','housing_median_age','total_rooms','total_bedrooms','population','households','median_income','median_house_value']\n",
        "data = pd.read_csv('housing.csv',  usecols=usecols)"
      ],
      "metadata": {
        "id": "EIIcqN-UZjJf"
      },
      "execution_count": 22,
      "outputs": []
    },
    {
      "cell_type": "code",
      "source": [
        "print(data.shape)"
      ],
      "metadata": {
        "colab": {
          "base_uri": "https://localhost:8080/"
        },
        "id": "V4DTYlhAZvvC",
        "outputId": "b2e47943-07cd-4508-fd7b-25e09e01fcc5"
      },
      "execution_count": 23,
      "outputs": [
        {
          "output_type": "stream",
          "name": "stdout",
          "text": [
            "(20640, 9)\n"
          ]
        }
      ]
    },
    {
      "cell_type": "code",
      "source": [
        "data.head(10)"
      ],
      "metadata": {
        "colab": {
          "base_uri": "https://localhost:8080/",
          "height": 363
        },
        "id": "eV2s3EeSZxQe",
        "outputId": "456721bb-793d-4efb-8f01-58abba9156b0"
      },
      "execution_count": 24,
      "outputs": [
        {
          "output_type": "execute_result",
          "data": {
            "text/plain": [
              "   longitude  latitude  housing_median_age  total_rooms  total_bedrooms  \\\n",
              "0    -122.23     37.88                41.0        880.0           129.0   \n",
              "1    -122.22     37.86                21.0       7099.0          1106.0   \n",
              "2    -122.24     37.85                52.0       1467.0           190.0   \n",
              "3    -122.25     37.85                52.0       1274.0           235.0   \n",
              "4    -122.25     37.85                52.0       1627.0           280.0   \n",
              "5    -122.25     37.85                52.0        919.0           213.0   \n",
              "6    -122.25     37.84                52.0       2535.0           489.0   \n",
              "7    -122.25     37.84                52.0       3104.0           687.0   \n",
              "8    -122.26     37.84                42.0       2555.0           665.0   \n",
              "9    -122.25     37.84                52.0       3549.0           707.0   \n",
              "\n",
              "   population  households  median_income  median_house_value  \n",
              "0       322.0       126.0         8.3252            452600.0  \n",
              "1      2401.0      1138.0         8.3014            358500.0  \n",
              "2       496.0       177.0         7.2574            352100.0  \n",
              "3       558.0       219.0         5.6431            341300.0  \n",
              "4       565.0       259.0         3.8462            342200.0  \n",
              "5       413.0       193.0         4.0368            269700.0  \n",
              "6      1094.0       514.0         3.6591            299200.0  \n",
              "7      1157.0       647.0         3.1200            241400.0  \n",
              "8      1206.0       595.0         2.0804            226700.0  \n",
              "9      1551.0       714.0         3.6912            261100.0  "
            ],
            "text/html": [
              "\n",
              "  <div id=\"df-4a630924-5bac-4659-aa8f-ff02fd0d47b8\">\n",
              "    <div class=\"colab-df-container\">\n",
              "      <div>\n",
              "<style scoped>\n",
              "    .dataframe tbody tr th:only-of-type {\n",
              "        vertical-align: middle;\n",
              "    }\n",
              "\n",
              "    .dataframe tbody tr th {\n",
              "        vertical-align: top;\n",
              "    }\n",
              "\n",
              "    .dataframe thead th {\n",
              "        text-align: right;\n",
              "    }\n",
              "</style>\n",
              "<table border=\"1\" class=\"dataframe\">\n",
              "  <thead>\n",
              "    <tr style=\"text-align: right;\">\n",
              "      <th></th>\n",
              "      <th>longitude</th>\n",
              "      <th>latitude</th>\n",
              "      <th>housing_median_age</th>\n",
              "      <th>total_rooms</th>\n",
              "      <th>total_bedrooms</th>\n",
              "      <th>population</th>\n",
              "      <th>households</th>\n",
              "      <th>median_income</th>\n",
              "      <th>median_house_value</th>\n",
              "    </tr>\n",
              "  </thead>\n",
              "  <tbody>\n",
              "    <tr>\n",
              "      <th>0</th>\n",
              "      <td>-122.23</td>\n",
              "      <td>37.88</td>\n",
              "      <td>41.0</td>\n",
              "      <td>880.0</td>\n",
              "      <td>129.0</td>\n",
              "      <td>322.0</td>\n",
              "      <td>126.0</td>\n",
              "      <td>8.3252</td>\n",
              "      <td>452600.0</td>\n",
              "    </tr>\n",
              "    <tr>\n",
              "      <th>1</th>\n",
              "      <td>-122.22</td>\n",
              "      <td>37.86</td>\n",
              "      <td>21.0</td>\n",
              "      <td>7099.0</td>\n",
              "      <td>1106.0</td>\n",
              "      <td>2401.0</td>\n",
              "      <td>1138.0</td>\n",
              "      <td>8.3014</td>\n",
              "      <td>358500.0</td>\n",
              "    </tr>\n",
              "    <tr>\n",
              "      <th>2</th>\n",
              "      <td>-122.24</td>\n",
              "      <td>37.85</td>\n",
              "      <td>52.0</td>\n",
              "      <td>1467.0</td>\n",
              "      <td>190.0</td>\n",
              "      <td>496.0</td>\n",
              "      <td>177.0</td>\n",
              "      <td>7.2574</td>\n",
              "      <td>352100.0</td>\n",
              "    </tr>\n",
              "    <tr>\n",
              "      <th>3</th>\n",
              "      <td>-122.25</td>\n",
              "      <td>37.85</td>\n",
              "      <td>52.0</td>\n",
              "      <td>1274.0</td>\n",
              "      <td>235.0</td>\n",
              "      <td>558.0</td>\n",
              "      <td>219.0</td>\n",
              "      <td>5.6431</td>\n",
              "      <td>341300.0</td>\n",
              "    </tr>\n",
              "    <tr>\n",
              "      <th>4</th>\n",
              "      <td>-122.25</td>\n",
              "      <td>37.85</td>\n",
              "      <td>52.0</td>\n",
              "      <td>1627.0</td>\n",
              "      <td>280.0</td>\n",
              "      <td>565.0</td>\n",
              "      <td>259.0</td>\n",
              "      <td>3.8462</td>\n",
              "      <td>342200.0</td>\n",
              "    </tr>\n",
              "    <tr>\n",
              "      <th>5</th>\n",
              "      <td>-122.25</td>\n",
              "      <td>37.85</td>\n",
              "      <td>52.0</td>\n",
              "      <td>919.0</td>\n",
              "      <td>213.0</td>\n",
              "      <td>413.0</td>\n",
              "      <td>193.0</td>\n",
              "      <td>4.0368</td>\n",
              "      <td>269700.0</td>\n",
              "    </tr>\n",
              "    <tr>\n",
              "      <th>6</th>\n",
              "      <td>-122.25</td>\n",
              "      <td>37.84</td>\n",
              "      <td>52.0</td>\n",
              "      <td>2535.0</td>\n",
              "      <td>489.0</td>\n",
              "      <td>1094.0</td>\n",
              "      <td>514.0</td>\n",
              "      <td>3.6591</td>\n",
              "      <td>299200.0</td>\n",
              "    </tr>\n",
              "    <tr>\n",
              "      <th>7</th>\n",
              "      <td>-122.25</td>\n",
              "      <td>37.84</td>\n",
              "      <td>52.0</td>\n",
              "      <td>3104.0</td>\n",
              "      <td>687.0</td>\n",
              "      <td>1157.0</td>\n",
              "      <td>647.0</td>\n",
              "      <td>3.1200</td>\n",
              "      <td>241400.0</td>\n",
              "    </tr>\n",
              "    <tr>\n",
              "      <th>8</th>\n",
              "      <td>-122.26</td>\n",
              "      <td>37.84</td>\n",
              "      <td>42.0</td>\n",
              "      <td>2555.0</td>\n",
              "      <td>665.0</td>\n",
              "      <td>1206.0</td>\n",
              "      <td>595.0</td>\n",
              "      <td>2.0804</td>\n",
              "      <td>226700.0</td>\n",
              "    </tr>\n",
              "    <tr>\n",
              "      <th>9</th>\n",
              "      <td>-122.25</td>\n",
              "      <td>37.84</td>\n",
              "      <td>52.0</td>\n",
              "      <td>3549.0</td>\n",
              "      <td>707.0</td>\n",
              "      <td>1551.0</td>\n",
              "      <td>714.0</td>\n",
              "      <td>3.6912</td>\n",
              "      <td>261100.0</td>\n",
              "    </tr>\n",
              "  </tbody>\n",
              "</table>\n",
              "</div>\n",
              "      <button class=\"colab-df-convert\" onclick=\"convertToInteractive('df-4a630924-5bac-4659-aa8f-ff02fd0d47b8')\"\n",
              "              title=\"Convert this dataframe to an interactive table.\"\n",
              "              style=\"display:none;\">\n",
              "        \n",
              "  <svg xmlns=\"http://www.w3.org/2000/svg\" height=\"24px\"viewBox=\"0 0 24 24\"\n",
              "       width=\"24px\">\n",
              "    <path d=\"M0 0h24v24H0V0z\" fill=\"none\"/>\n",
              "    <path d=\"M18.56 5.44l.94 2.06.94-2.06 2.06-.94-2.06-.94-.94-2.06-.94 2.06-2.06.94zm-11 1L8.5 8.5l.94-2.06 2.06-.94-2.06-.94L8.5 2.5l-.94 2.06-2.06.94zm10 10l.94 2.06.94-2.06 2.06-.94-2.06-.94-.94-2.06-.94 2.06-2.06.94z\"/><path d=\"M17.41 7.96l-1.37-1.37c-.4-.4-.92-.59-1.43-.59-.52 0-1.04.2-1.43.59L10.3 9.45l-7.72 7.72c-.78.78-.78 2.05 0 2.83L4 21.41c.39.39.9.59 1.41.59.51 0 1.02-.2 1.41-.59l7.78-7.78 2.81-2.81c.8-.78.8-2.07 0-2.86zM5.41 20L4 18.59l7.72-7.72 1.47 1.35L5.41 20z\"/>\n",
              "  </svg>\n",
              "      </button>\n",
              "      \n",
              "  <style>\n",
              "    .colab-df-container {\n",
              "      display:flex;\n",
              "      flex-wrap:wrap;\n",
              "      gap: 12px;\n",
              "    }\n",
              "\n",
              "    .colab-df-convert {\n",
              "      background-color: #E8F0FE;\n",
              "      border: none;\n",
              "      border-radius: 50%;\n",
              "      cursor: pointer;\n",
              "      display: none;\n",
              "      fill: #1967D2;\n",
              "      height: 32px;\n",
              "      padding: 0 0 0 0;\n",
              "      width: 32px;\n",
              "    }\n",
              "\n",
              "    .colab-df-convert:hover {\n",
              "      background-color: #E2EBFA;\n",
              "      box-shadow: 0px 1px 2px rgba(60, 64, 67, 0.3), 0px 1px 3px 1px rgba(60, 64, 67, 0.15);\n",
              "      fill: #174EA6;\n",
              "    }\n",
              "\n",
              "    [theme=dark] .colab-df-convert {\n",
              "      background-color: #3B4455;\n",
              "      fill: #D2E3FC;\n",
              "    }\n",
              "\n",
              "    [theme=dark] .colab-df-convert:hover {\n",
              "      background-color: #434B5C;\n",
              "      box-shadow: 0px 1px 3px 1px rgba(0, 0, 0, 0.15);\n",
              "      filter: drop-shadow(0px 1px 2px rgba(0, 0, 0, 0.3));\n",
              "      fill: #FFFFFF;\n",
              "    }\n",
              "  </style>\n",
              "\n",
              "      <script>\n",
              "        const buttonEl =\n",
              "          document.querySelector('#df-4a630924-5bac-4659-aa8f-ff02fd0d47b8 button.colab-df-convert');\n",
              "        buttonEl.style.display =\n",
              "          google.colab.kernel.accessAllowed ? 'block' : 'none';\n",
              "\n",
              "        async function convertToInteractive(key) {\n",
              "          const element = document.querySelector('#df-4a630924-5bac-4659-aa8f-ff02fd0d47b8');\n",
              "          const dataTable =\n",
              "            await google.colab.kernel.invokeFunction('convertToInteractive',\n",
              "                                                     [key], {});\n",
              "          if (!dataTable) return;\n",
              "\n",
              "          const docLinkHtml = 'Like what you see? Visit the ' +\n",
              "            '<a target=\"_blank\" href=https://colab.research.google.com/notebooks/data_table.ipynb>data table notebook</a>'\n",
              "            + ' to learn more about interactive tables.';\n",
              "          element.innerHTML = '';\n",
              "          dataTable['output_type'] = 'display_data';\n",
              "          await google.colab.output.renderOutput(dataTable, element);\n",
              "          const docLink = document.createElement('div');\n",
              "          docLink.innerHTML = docLinkHtml;\n",
              "          element.appendChild(docLink);\n",
              "        }\n",
              "      </script>\n",
              "    </div>\n",
              "  </div>\n",
              "  "
            ]
          },
          "metadata": {},
          "execution_count": 24
        }
      ]
    },
    {
      "cell_type": "code",
      "source": [
        "data.info()"
      ],
      "metadata": {
        "colab": {
          "base_uri": "https://localhost:8080/"
        },
        "id": "TnnB58g7dCX7",
        "outputId": "6359e856-0b07-4bba-949b-9a5dd67c9139"
      },
      "execution_count": 25,
      "outputs": [
        {
          "output_type": "stream",
          "name": "stdout",
          "text": [
            "<class 'pandas.core.frame.DataFrame'>\n",
            "RangeIndex: 20640 entries, 0 to 20639\n",
            "Data columns (total 9 columns):\n",
            " #   Column              Non-Null Count  Dtype  \n",
            "---  ------              --------------  -----  \n",
            " 0   longitude           20640 non-null  float64\n",
            " 1   latitude            20640 non-null  float64\n",
            " 2   housing_median_age  20640 non-null  float64\n",
            " 3   total_rooms         20640 non-null  float64\n",
            " 4   total_bedrooms      20433 non-null  float64\n",
            " 5   population          20640 non-null  float64\n",
            " 6   households          20640 non-null  float64\n",
            " 7   median_income       20640 non-null  float64\n",
            " 8   median_house_value  20640 non-null  float64\n",
            "dtypes: float64(9)\n",
            "memory usage: 1.4 MB\n"
          ]
        }
      ]
    },
    {
      "cell_type": "markdown",
      "source": [
        "We can see total_bedrooms is missing some values. The number of missiong values is 20640-20433= 207"
      ],
      "metadata": {
        "id": "vGdHAf6uduI7"
      }
    },
    {
      "cell_type": "code",
      "source": [
        "data.describe(percentiles=[ .5]).T"
      ],
      "metadata": {
        "colab": {
          "base_uri": "https://localhost:8080/",
          "height": 332
        },
        "id": "HakoWb6NdNDE",
        "outputId": "50ff9714-8d95-4904-b414-1c41ba100334"
      },
      "execution_count": 26,
      "outputs": [
        {
          "output_type": "execute_result",
          "data": {
            "text/plain": [
              "                      count           mean            std         min  \\\n",
              "longitude           20640.0    -119.569704       2.003532   -124.3500   \n",
              "latitude            20640.0      35.631861       2.135952     32.5400   \n",
              "housing_median_age  20640.0      28.639486      12.585558      1.0000   \n",
              "total_rooms         20640.0    2635.763081    2181.615252      2.0000   \n",
              "total_bedrooms      20433.0     537.870553     421.385070      1.0000   \n",
              "population          20640.0    1425.476744    1132.462122      3.0000   \n",
              "households          20640.0     499.539680     382.329753      1.0000   \n",
              "median_income       20640.0       3.870671       1.899822      0.4999   \n",
              "median_house_value  20640.0  206855.816909  115395.615874  14999.0000   \n",
              "\n",
              "                            50%          max  \n",
              "longitude             -118.4900    -114.3100  \n",
              "latitude                34.2600      41.9500  \n",
              "housing_median_age      29.0000      52.0000  \n",
              "total_rooms           2127.0000   39320.0000  \n",
              "total_bedrooms         435.0000    6445.0000  \n",
              "population            1166.0000   35682.0000  \n",
              "households             409.0000    6082.0000  \n",
              "median_income            3.5348      15.0001  \n",
              "median_house_value  179700.0000  500001.0000  "
            ],
            "text/html": [
              "\n",
              "  <div id=\"df-86b74c10-5ff8-4335-8a0f-2441adf4b7c5\">\n",
              "    <div class=\"colab-df-container\">\n",
              "      <div>\n",
              "<style scoped>\n",
              "    .dataframe tbody tr th:only-of-type {\n",
              "        vertical-align: middle;\n",
              "    }\n",
              "\n",
              "    .dataframe tbody tr th {\n",
              "        vertical-align: top;\n",
              "    }\n",
              "\n",
              "    .dataframe thead th {\n",
              "        text-align: right;\n",
              "    }\n",
              "</style>\n",
              "<table border=\"1\" class=\"dataframe\">\n",
              "  <thead>\n",
              "    <tr style=\"text-align: right;\">\n",
              "      <th></th>\n",
              "      <th>count</th>\n",
              "      <th>mean</th>\n",
              "      <th>std</th>\n",
              "      <th>min</th>\n",
              "      <th>50%</th>\n",
              "      <th>max</th>\n",
              "    </tr>\n",
              "  </thead>\n",
              "  <tbody>\n",
              "    <tr>\n",
              "      <th>longitude</th>\n",
              "      <td>20640.0</td>\n",
              "      <td>-119.569704</td>\n",
              "      <td>2.003532</td>\n",
              "      <td>-124.3500</td>\n",
              "      <td>-118.4900</td>\n",
              "      <td>-114.3100</td>\n",
              "    </tr>\n",
              "    <tr>\n",
              "      <th>latitude</th>\n",
              "      <td>20640.0</td>\n",
              "      <td>35.631861</td>\n",
              "      <td>2.135952</td>\n",
              "      <td>32.5400</td>\n",
              "      <td>34.2600</td>\n",
              "      <td>41.9500</td>\n",
              "    </tr>\n",
              "    <tr>\n",
              "      <th>housing_median_age</th>\n",
              "      <td>20640.0</td>\n",
              "      <td>28.639486</td>\n",
              "      <td>12.585558</td>\n",
              "      <td>1.0000</td>\n",
              "      <td>29.0000</td>\n",
              "      <td>52.0000</td>\n",
              "    </tr>\n",
              "    <tr>\n",
              "      <th>total_rooms</th>\n",
              "      <td>20640.0</td>\n",
              "      <td>2635.763081</td>\n",
              "      <td>2181.615252</td>\n",
              "      <td>2.0000</td>\n",
              "      <td>2127.0000</td>\n",
              "      <td>39320.0000</td>\n",
              "    </tr>\n",
              "    <tr>\n",
              "      <th>total_bedrooms</th>\n",
              "      <td>20433.0</td>\n",
              "      <td>537.870553</td>\n",
              "      <td>421.385070</td>\n",
              "      <td>1.0000</td>\n",
              "      <td>435.0000</td>\n",
              "      <td>6445.0000</td>\n",
              "    </tr>\n",
              "    <tr>\n",
              "      <th>population</th>\n",
              "      <td>20640.0</td>\n",
              "      <td>1425.476744</td>\n",
              "      <td>1132.462122</td>\n",
              "      <td>3.0000</td>\n",
              "      <td>1166.0000</td>\n",
              "      <td>35682.0000</td>\n",
              "    </tr>\n",
              "    <tr>\n",
              "      <th>households</th>\n",
              "      <td>20640.0</td>\n",
              "      <td>499.539680</td>\n",
              "      <td>382.329753</td>\n",
              "      <td>1.0000</td>\n",
              "      <td>409.0000</td>\n",
              "      <td>6082.0000</td>\n",
              "    </tr>\n",
              "    <tr>\n",
              "      <th>median_income</th>\n",
              "      <td>20640.0</td>\n",
              "      <td>3.870671</td>\n",
              "      <td>1.899822</td>\n",
              "      <td>0.4999</td>\n",
              "      <td>3.5348</td>\n",
              "      <td>15.0001</td>\n",
              "    </tr>\n",
              "    <tr>\n",
              "      <th>median_house_value</th>\n",
              "      <td>20640.0</td>\n",
              "      <td>206855.816909</td>\n",
              "      <td>115395.615874</td>\n",
              "      <td>14999.0000</td>\n",
              "      <td>179700.0000</td>\n",
              "      <td>500001.0000</td>\n",
              "    </tr>\n",
              "  </tbody>\n",
              "</table>\n",
              "</div>\n",
              "      <button class=\"colab-df-convert\" onclick=\"convertToInteractive('df-86b74c10-5ff8-4335-8a0f-2441adf4b7c5')\"\n",
              "              title=\"Convert this dataframe to an interactive table.\"\n",
              "              style=\"display:none;\">\n",
              "        \n",
              "  <svg xmlns=\"http://www.w3.org/2000/svg\" height=\"24px\"viewBox=\"0 0 24 24\"\n",
              "       width=\"24px\">\n",
              "    <path d=\"M0 0h24v24H0V0z\" fill=\"none\"/>\n",
              "    <path d=\"M18.56 5.44l.94 2.06.94-2.06 2.06-.94-2.06-.94-.94-2.06-.94 2.06-2.06.94zm-11 1L8.5 8.5l.94-2.06 2.06-.94-2.06-.94L8.5 2.5l-.94 2.06-2.06.94zm10 10l.94 2.06.94-2.06 2.06-.94-2.06-.94-.94-2.06-.94 2.06-2.06.94z\"/><path d=\"M17.41 7.96l-1.37-1.37c-.4-.4-.92-.59-1.43-.59-.52 0-1.04.2-1.43.59L10.3 9.45l-7.72 7.72c-.78.78-.78 2.05 0 2.83L4 21.41c.39.39.9.59 1.41.59.51 0 1.02-.2 1.41-.59l7.78-7.78 2.81-2.81c.8-.78.8-2.07 0-2.86zM5.41 20L4 18.59l7.72-7.72 1.47 1.35L5.41 20z\"/>\n",
              "  </svg>\n",
              "      </button>\n",
              "      \n",
              "  <style>\n",
              "    .colab-df-container {\n",
              "      display:flex;\n",
              "      flex-wrap:wrap;\n",
              "      gap: 12px;\n",
              "    }\n",
              "\n",
              "    .colab-df-convert {\n",
              "      background-color: #E8F0FE;\n",
              "      border: none;\n",
              "      border-radius: 50%;\n",
              "      cursor: pointer;\n",
              "      display: none;\n",
              "      fill: #1967D2;\n",
              "      height: 32px;\n",
              "      padding: 0 0 0 0;\n",
              "      width: 32px;\n",
              "    }\n",
              "\n",
              "    .colab-df-convert:hover {\n",
              "      background-color: #E2EBFA;\n",
              "      box-shadow: 0px 1px 2px rgba(60, 64, 67, 0.3), 0px 1px 3px 1px rgba(60, 64, 67, 0.15);\n",
              "      fill: #174EA6;\n",
              "    }\n",
              "\n",
              "    [theme=dark] .colab-df-convert {\n",
              "      background-color: #3B4455;\n",
              "      fill: #D2E3FC;\n",
              "    }\n",
              "\n",
              "    [theme=dark] .colab-df-convert:hover {\n",
              "      background-color: #434B5C;\n",
              "      box-shadow: 0px 1px 3px 1px rgba(0, 0, 0, 0.15);\n",
              "      filter: drop-shadow(0px 1px 2px rgba(0, 0, 0, 0.3));\n",
              "      fill: #FFFFFF;\n",
              "    }\n",
              "  </style>\n",
              "\n",
              "      <script>\n",
              "        const buttonEl =\n",
              "          document.querySelector('#df-86b74c10-5ff8-4335-8a0f-2441adf4b7c5 button.colab-df-convert');\n",
              "        buttonEl.style.display =\n",
              "          google.colab.kernel.accessAllowed ? 'block' : 'none';\n",
              "\n",
              "        async function convertToInteractive(key) {\n",
              "          const element = document.querySelector('#df-86b74c10-5ff8-4335-8a0f-2441adf4b7c5');\n",
              "          const dataTable =\n",
              "            await google.colab.kernel.invokeFunction('convertToInteractive',\n",
              "                                                     [key], {});\n",
              "          if (!dataTable) return;\n",
              "\n",
              "          const docLinkHtml = 'Like what you see? Visit the ' +\n",
              "            '<a target=\"_blank\" href=https://colab.research.google.com/notebooks/data_table.ipynb>data table notebook</a>'\n",
              "            + ' to learn more about interactive tables.';\n",
              "          element.innerHTML = '';\n",
              "          dataTable['output_type'] = 'display_data';\n",
              "          await google.colab.output.renderOutput(dataTable, element);\n",
              "          const docLink = document.createElement('div');\n",
              "          docLink.innerHTML = docLinkHtml;\n",
              "          element.appendChild(docLink);\n",
              "        }\n",
              "      </script>\n",
              "    </div>\n",
              "  </div>\n",
              "  "
            ]
          },
          "metadata": {},
          "execution_count": 26
        }
      ]
    },
    {
      "cell_type": "code",
      "source": [
        "np.median(data['population'].describe(percentiles=[ .5]).T)"
      ],
      "metadata": {
        "colab": {
          "base_uri": "https://localhost:8080/"
        },
        "id": "PLRdTPKae8td",
        "outputId": "03c0da2f-9c18-463e-bd33-26f6cb53fc1c"
      },
      "execution_count": 27,
      "outputs": [
        {
          "output_type": "execute_result",
          "data": {
            "text/plain": [
              "1295.7383720930234"
            ]
          },
          "metadata": {},
          "execution_count": 27
        }
      ]
    },
    {
      "cell_type": "code",
      "source": [
        "np.median(data['population'])"
      ],
      "metadata": {
        "colab": {
          "base_uri": "https://localhost:8080/"
        },
        "id": "6x-L3TLSf4Yl",
        "outputId": "7696294d-123f-4e79-9ec5-99fb57cc24f8"
      },
      "execution_count": 28,
      "outputs": [
        {
          "output_type": "execute_result",
          "data": {
            "text/plain": [
              "1166.0"
            ]
          },
          "metadata": {},
          "execution_count": 28
        }
      ]
    },
    {
      "cell_type": "code",
      "source": [
        "n = len(data)\n",
        "\n",
        "n_val = int(0.2 * n)\n",
        "n_test = int(0.2 * n)\n",
        "n_train = n - (n_val + n_test)\n",
        "\n",
        "idx = np.arange(n)\n",
        "np.random.seed(42)\n",
        "np.random.shuffle(idx)\n",
        "\n",
        "df_shuffled = data.iloc[idx]"
      ],
      "metadata": {
        "id": "kp4rbJ6wf4fD"
      },
      "execution_count": 29,
      "outputs": []
    },
    {
      "cell_type": "code",
      "source": [
        "df_train = df_shuffled.iloc[:n_train].copy()\n",
        "df_val = df_shuffled.iloc[n_train:n_train+n_val].copy()\n",
        "df_test = df_shuffled.iloc[n_train+n_val:].copy()\n",
        "\n",
        "df_train = df_train.reset_index(drop=True)\n",
        "df_val = df_val.reset_index(drop=True)\n",
        "df_test = df_test.reset_index(drop=True)"
      ],
      "metadata": {
        "id": "xdyGPb2Ve8wh"
      },
      "execution_count": 30,
      "outputs": []
    },
    {
      "cell_type": "code",
      "source": [
        "y_train_orig = df_train.median_house_value.values\n",
        "y_val_orig = df_val.median_house_value.values\n",
        "y_test_orig = df_test.median_house_value.values\n",
        "\n",
        "y_train = np.log1p(y_train_orig)\n",
        "y_val = np.log1p(y_val_orig)\n",
        "y_test = np.log1p(y_test_orig)"
      ],
      "metadata": {
        "id": "DU8KvtgMeELx"
      },
      "execution_count": 31,
      "outputs": []
    },
    {
      "cell_type": "code",
      "source": [
        "del df_train['median_house_value']\n",
        "del df_val['median_house_value']\n",
        "del df_test['median_house_value']\n",
        "check = ['latitude','longitude','housing_median_age','total_rooms','total_bedrooms','population','households','median_income']\n",
        "\n",
        "def prepare_X(df, fillna_value):\n",
        "    df_num = df[check]\n",
        "    df_num = df_num.fillna(fillna_value)\n",
        "    X = df_num.values\n",
        "    return X"
      ],
      "metadata": {
        "id": "_HRY-s3_hSB_"
      },
      "execution_count": 32,
      "outputs": []
    },
    {
      "cell_type": "code",
      "source": [],
      "metadata": {
        "id": "XxAAqYOhl80r"
      },
      "execution_count": 32,
      "outputs": []
    },
    {
      "cell_type": "code",
      "source": [
        "def train_linear_regression(X, y):\n",
        "    ones = np.ones(X.shape[0])\n",
        "    X = np.column_stack([ones, X])\n",
        "\n",
        "    XTX = X.T.dot(X)\n",
        "    XTX_inv = np.linalg.inv(XTX)\n",
        "    w = XTX_inv.dot(X.T).dot(y)\n",
        "    \n",
        "    return w[0], w[1:]"
      ],
      "metadata": {
        "id": "c_FEvEsplmd4"
      },
      "execution_count": 33,
      "outputs": []
    },
    {
      "cell_type": "markdown",
      "source": [
        "I test fill with median, mean, and 0 and median give me 0.33 in rmse and others give me 0.34"
      ],
      "metadata": {
        "id": "er5teKDg5vqy"
      }
    },
    {
      "cell_type": "code",
      "source": [
        "#mean = df_train.total_bedrooms.median()\n",
        "#mean = 0\n",
        "mean = df_train.total_bedrooms.median()\n",
        "X_mean_train = prepare_X(df_train, fillna_value=mean)\n",
        "w_0_mean, w_mean = train_linear_regression(X_mean_train, y_train)"
      ],
      "metadata": {
        "id": "deo8eGDCkvcl"
      },
      "execution_count": 63,
      "outputs": []
    },
    {
      "cell_type": "code",
      "source": [
        "def rmse(y, y_pred):\n",
        "    error = y_pred - y\n",
        "    mse = (error ** 2).mean()\n",
        "    return np.sqrt(mse)"
      ],
      "metadata": {
        "id": "j7Kj6nYwlxn9"
      },
      "execution_count": 64,
      "outputs": []
    },
    {
      "cell_type": "code",
      "source": [
        "X_mean_val = prepare_X(df_val, fillna_value=mean)\n",
        "y_mean_pred_val = w_0_mean + X_mean_val.dot(w_mean)"
      ],
      "metadata": {
        "id": "9PEF2Ya6l9ff"
      },
      "execution_count": 65,
      "outputs": []
    },
    {
      "cell_type": "code",
      "source": [
        "np.round(rmse(y_val, y_mean_pred_val),2)"
      ],
      "metadata": {
        "colab": {
          "base_uri": "https://localhost:8080/"
        },
        "id": "VOP6FOhlmAEj",
        "outputId": "ee241044-7aa8-4801-e7b8-f99bd4456e50"
      },
      "execution_count": 62,
      "outputs": [
        {
          "output_type": "execute_result",
          "data": {
            "text/plain": [
              "0.34"
            ]
          },
          "metadata": {},
          "execution_count": 62
        }
      ]
    },
    {
      "cell_type": "code",
      "source": [
        "X_null_train = prepare_X(df_train, fillna_value=0)\n",
        "w_0_null, w_null = train_linear_regression(X_null_train, y_train)"
      ],
      "metadata": {
        "id": "335QRiuD19Vb"
      },
      "execution_count": 38,
      "outputs": []
    },
    {
      "cell_type": "code",
      "source": [
        "def train_linear_regression_reg(X, y, r=0.0):\n",
        "    ones = np.ones(X.shape[0])\n",
        "    X = np.column_stack([ones, X])\n",
        "\n",
        "    XTX = X.T.dot(X)\n",
        "    reg = r * np.eye(XTX.shape[0])\n",
        "    XTX = XTX + reg\n",
        "\n",
        "    XTX_inv = np.linalg.inv(XTX)\n",
        "    w = XTX_inv.dot(X.T).dot(y)\n",
        "    \n",
        "    return w[0], w[1:]"
      ],
      "metadata": {
        "id": "uMlYY1UOrqay"
      },
      "execution_count": 39,
      "outputs": []
    },
    {
      "cell_type": "code",
      "source": [
        "X_null_val = prepare_X(df_val, fillna_value=0)\n",
        "y_null_pred_val = w_0_null + X_null_val.dot(w_null)"
      ],
      "metadata": {
        "id": "9rOaGNBer-uk"
      },
      "execution_count": 40,
      "outputs": []
    },
    {
      "cell_type": "code",
      "source": [
        "for r in [0, 0.000001, 0.001, 0.0001]:\n",
        "    w_0, w = train_linear_regression_reg(X_null_train, y_train, r=r)\n",
        "    y_null_reg_val = w_0 + X_null_val.dot(w)\n",
        "    rmse_val = np.round(rmse(y_val, y_null_reg_val),2)\n",
        "    print(r, w_0, rmse_val)"
      ],
      "metadata": {
        "colab": {
          "base_uri": "https://localhost:8080/"
        },
        "id": "z8O4PlI-rwjZ",
        "outputId": "bced0c97-d683-49af-fd7f-3963ac4c11aa"
      },
      "execution_count": 41,
      "outputs": [
        {
          "output_type": "stream",
          "name": "stdout",
          "text": [
            "0 -11.686975241808469 0.33\n",
            "1e-06 -11.686959175857494 0.33\n",
            "0.001 -11.670931318158033 0.33\n",
            "0.0001 -11.685368865259061 0.33\n"
          ]
        }
      ]
    },
    {
      "cell_type": "code",
      "source": [
        "rmse_list = []\n",
        "\n",
        "for r in [0, 1, 2, 3, 4, 5, 6, 7, 8, 9]:\n",
        "\n",
        "    idx = np.arange(n)\n",
        "    np.random.seed(r)\n",
        "    np.random.shuffle(idx)\n",
        "\n",
        "    df_shuffled = data.iloc[idx]\n",
        "    \n",
        "    df_train = df_shuffled.iloc[:n_train].copy()\n",
        "    df_val = df_shuffled.iloc[n_train:n_train+n_val].copy()\n",
        "    df_test = df_shuffled.iloc[n_train+n_val:].copy()\n",
        "\n",
        "    df_train = df_train.reset_index(drop=True)\n",
        "    df_val = df_val.reset_index(drop=True)\n",
        "    df_test = df_test.reset_index(drop=True)\n",
        "    \n",
        "    y_train_orig = df_train.median_house_value.values\n",
        "    y_val_orig = df_val.median_house_value.values\n",
        "    y_test_orig = df_test.median_house_value.values\n",
        "\n",
        "    y_train = np.log1p(y_train_orig)\n",
        "    y_val = np.log1p(y_val_orig)\n",
        "    y_test = np.log1p(y_test_orig)\n",
        "    \n",
        "    del df_train['median_house_value']\n",
        "    del df_val['median_house_value']\n",
        "    del df_test['median_house_value']\n",
        "    \n",
        "    X_null_train = prepare_X(df_train, fillna_value=0)\n",
        "    w_0, w = train_linear_regression(X_null_train, y_train)\n",
        "    \n",
        "    X_null_val = prepare_X(df_val, fillna_value=0)\n",
        "    y_null_reg_val = w_0 + X_null_val.dot(w)\n",
        "    rmse_val = np.round(rmse(y_val, y_null_reg_val),2)\n",
        "    \n",
        "    rmse_list.append(rmse_val)\n",
        "    \n",
        "    print(r, w_0, rmse_val)"
      ],
      "metadata": {
        "colab": {
          "base_uri": "https://localhost:8080/"
        },
        "id": "wU6j6ZKpsV41",
        "outputId": "a943381b-7c4f-4887-f552-e378089b0822"
      },
      "execution_count": 42,
      "outputs": [
        {
          "output_type": "stream",
          "name": "stdout",
          "text": [
            "0 -11.900382137908027 0.34\n",
            "1 -11.732757373188662 0.34\n",
            "2 -11.806729360909411 0.33\n",
            "3 -11.587900347906233 0.34\n",
            "4 -11.389470588134488 0.34\n",
            "5 -11.447114275472783 0.34\n",
            "6 -11.370516351449302 0.35\n",
            "7 -12.473448919176963 0.34\n",
            "8 -11.80028742996401 0.35\n",
            "9 -11.459046830793834 0.34\n"
          ]
        }
      ]
    },
    {
      "cell_type": "code",
      "source": [
        "np.round(np.std(rmse_list),3)"
      ],
      "metadata": {
        "colab": {
          "base_uri": "https://localhost:8080/"
        },
        "id": "nM9UMyuasqBi",
        "outputId": "48367a09-7c4b-43be-b400-72516ce4e083"
      },
      "execution_count": 43,
      "outputs": [
        {
          "output_type": "execute_result",
          "data": {
            "text/plain": [
              "0.005"
            ]
          },
          "metadata": {},
          "execution_count": 43
        }
      ]
    },
    {
      "cell_type": "code",
      "source": [
        "r = 9\n",
        "\n",
        "idx = np.arange(n)\n",
        "np.random.seed(r)\n",
        "np.random.shuffle(idx)\n",
        "\n",
        "df_shuffled = data.iloc[idx]\n",
        "    \n",
        "df_train = df_shuffled.iloc[:n_train].copy()\n",
        "df_val = df_shuffled.iloc[n_train:n_train+n_val].copy()\n",
        "df_test = df_shuffled.iloc[n_train+n_val:].copy()\n",
        "\n",
        "frames = [df_train, df_val]\n",
        "df_train_val = pd.concat(frames)\n",
        "\n",
        "df_train_val = df_train_val.reset_index(drop=True)\n",
        "df_test = df_test.reset_index(drop=True)\n",
        "\n",
        "y_train_val_orig = df_train_val.median_house_value.values\n",
        "y_test_orig = df_test.median_house_value.values\n",
        "\n",
        "y_train_val = np.log1p(y_train_val_orig)\n",
        "y_test = np.log1p(y_test_orig)\n",
        "\n",
        "del df_train_val['median_house_value']\n",
        "del df_test['median_house_value']"
      ],
      "metadata": {
        "id": "dL1lwnBHswq9"
      },
      "execution_count": 44,
      "outputs": []
    },
    {
      "cell_type": "code",
      "source": [
        "X_null_train_val = prepare_X(df_train_val, fillna_value=0)\n",
        "w_0_train_val, w_train_val = train_linear_regression_reg(X_null_train_val, y_train_val, r=0.001)\n",
        "\n",
        "X_null_test = prepare_X(df_test, fillna_value=0)\n",
        "y_null_pred_test = w_0_train_val + X_null_test.dot(w_train_val)\n",
        "\n",
        "np.round(rmse(y_test, y_null_pred_test),2)"
      ],
      "metadata": {
        "id": "e1BUzHO1s39M",
        "outputId": "8be12580-8a03-4997-8201-94697256280c",
        "colab": {
          "base_uri": "https://localhost:8080/"
        }
      },
      "execution_count": 45,
      "outputs": [
        {
          "output_type": "execute_result",
          "data": {
            "text/plain": [
              "0.35"
            ]
          },
          "metadata": {},
          "execution_count": 45
        }
      ]
    }
  ]
}